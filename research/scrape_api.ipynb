{
 "cells": [
  {
   "cell_type": "code",
   "execution_count": 2,
   "metadata": {},
   "outputs": [],
   "source": [
    "import requests\n",
    "from bs4 import BeautifulSoup"
   ]
  },
  {
   "cell_type": "code",
   "execution_count": 4,
   "metadata": {},
   "outputs": [
    {
     "data": {
      "text/plain": [
       "[<p><b>Đại học Bách khoa Hà Nội</b> (<a href=\"/wiki/Ti%E1%BA%BFng_Anh\" title=\"Tiếng Anh\">tiếng Anh</a>: <i><span lang=\"en\">Hanoi University of Science and Technology</span></i>, <b>HUST</b>) là <a href=\"/wiki/Gi%C3%A1o_d%E1%BB%A5c_b%E1%BA%ADc_cao\" title=\"Giáo dục bậc cao\">đại học theo lĩnh vực</a> kỹ thuật và công nghệ có trụ sở tại <a href=\"/wiki/H%C3%A0_N%E1%BB%99i\" title=\"Hà Nội\">Hà Nội</a>, <a href=\"/wiki/Vi%E1%BB%87t_Nam\" title=\"Việt Nam\">Việt Nam</a>. Đại học Bách khoa Hà Nội được xem là một trong những <a class=\"mw-redirect\" href=\"/wiki/%C4%90%E1%BA%A1i_h%E1%BB%8Dc_k%E1%BB%B9_thu%E1%BA%ADt\" title=\"Đại học kỹ thuật\">đại học kỹ thuật</a> lớn nhất Việt Nam, trực thuộc <a href=\"/wiki/B%E1%BB%99_Gi%C3%A1o_d%E1%BB%A5c_v%C3%A0_%C4%90%C3%A0o_t%E1%BA%A1o_(Vi%E1%BB%87t_Nam)\" title=\"Bộ Giáo dục và Đào tạo (Việt Nam)\">Bộ Giáo dục và Đào tạo</a> và được xếp vào nhóm các trường <a href=\"/wiki/%C4%90%E1%BA%A1i_h%E1%BB%8Dc_tr%E1%BB%8Dng_%C4%91i%E1%BB%83m_qu%E1%BB%91c_gia_Vi%E1%BB%87t_Nam\" title=\"Đại học trọng điểm quốc gia Việt Nam\">Đại học, Học viện trọng điểm Quốc gia của Việt Nam</a>.\n",
       " </p>,\n",
       " <p>Tiền thân của Đại học Bách khoa Hà Nội vốn là Trường Đại học Bách khoa Hà Nội được thành lập vào ngày 6 tháng 3 năm 1956. Ngày 5 tháng 12 năm 2022, Thủ tướng Chính phủ ban hành Quyết định số 1512/QĐ-TTg về việc chuyển Trường Đại học Bách khoa Hà Nội thành Đại học Bách khoa Hà Nội, đưa Bách khoa Hà Nội trở thành đại học đa thành viên thứ 6 của Việt Nam.\n",
       " </p>,\n",
       " <p>Tầm nhìn của đại học là trở thành một đại học nghiên cứu hàng đầu khu vực với nòng cốt là kỹ thuật và công nghệ, tác động quan trọng vào phát triển nền kinh tế tri thức và góp phần gìn giữ an ninh, hòa bình đất nước, tiên phong trong hệ thống giáo dục đại học Việt Nam.<sup class=\"reference\" id=\"cite_ref-8\"><a href=\"#cite_note-8\"><span class=\"cite-bracket\">[</span>a<span class=\"cite-bracket\">]</span></a></sup> Đại học Bách khoa Hà Nội cũng là thành viên của Hiệp hội các đại học kỹ thuật hàng đầu khu vực <a href=\"/wiki/Ch%C3%A2u_%C3%81%E2%80%93Th%C3%A1i_B%C3%ACnh_D%C6%B0%C6%A1ng\" title=\"Châu Á–Thái Bình Dương\">châu Á – Thái Bình Dương</a> (AOTULE; <i>Asia–Oceania Top University League on Engineering</i>).\n",
       " </p>,\n",
       " <p>Trường Đại học Bách khoa Hà Nội được thành lập theo Nghị định số 147/NĐ ngày 6-3-1956 do Bộ trưởng Bộ Giáo dục <a href=\"/wiki/Nguy%E1%BB%85n_V%C4%83n_Huy%C3%AAn\" title=\"Nguyễn Văn Huyên\">Nguyễn Văn Huyên</a> ký. Đây là trường đại học kỹ thuật đầu tiên của Việt Nam có nhiệm vụ đào tạo kỹ sư công nghiệp cho công cuộc xây dựng CNXH ở miền Bắc và đấu tranh giải phóng miền Nam Việt Nam. Với 60 năm xây dựng và phát triển, Đại học Bách khoa Hà Nội đã trải qua các giai đoạn:\n",
       " </p>,\n",
       " <p>Trong giai đoạn này các thế hệ cán bộ và sinh viên của Trường Đại học Bách khoa Hà Nội đã trải qua chặng đường đầu tiên với muôn vàn khó khăn, thách thức. Trường đã bắt đầu gần như từ không đến có để trở thành một trường đại học kỹ thuật công nghiệp tương đối hoàn chỉnh. Ngày 15-10-1956 trường đã chính thức làm Lễ khai giảng khóa học chính quy đầu tiên cho gần 1000 sinh viên thuộc 14 chuyên ngành của 4 Liên khoa Cơ – Điện, Mỏ – Luyện kim, Hóa – Thực phẩm và Xây dựng. <a href=\"/wiki/Tr%E1%BA%A7n_%C4%90%E1%BA%A1i_Ngh%C4%A9a\" title=\"Trần Đại Nghĩa\">Giáo sư Trần Đại Nghĩa</a> là hiệu trưởng đầu tiên, người đặt nền móng cho trường đại học khoa học, kỹ thuật và công nghệ đầu tiên của Việt Nam - chiếc nôi nuôi dưỡng một lực lượng cán bộ khoa học kỹ thuật và cán bộ quản lý phục vụ công cuộc tái thiết và xây dựng đất nước sau này.Trong giai đoạn này đã đào tạo khoảng 4000 kỹ sư công nghiệp hệ chính quy, thực hiện hơn 100 đề tài nghiên cứu khoa học và hợp đồng kinh tế, kỹ thuật.\n",
       " </p>,\n",
       " <p>Trong giai đoạn này Trường đã không ngừng phát triển về số lượng, nâng cao về chất lượng toàn diện để tham gia xây dựng CNXH trước mắt và lâu dài. Gắn nội dung giảng dạy và nghiên cứu khoa học với cuộc cách mạng kỹ thuật, đào tạo cán bộ thích ứng với yêu cầu về kinh tế, quốc phòng của Việt Nam. Trường đã nghiên cứu và ứng dụng thành công nhiều đề tài vào sản xuất và phục vụ quốc phòng. Trường đã đào tạo được gần 7000 sinh viên tốt nghiệp hệ chính quy và 2302 sinh viên hệ tại chức thuộc 58 chuyên ngành. Hưởng ứng phong trào \"Ba sẵn sàng\", gần 200 cán bộ và trên 2700 sinh viên lần lượt nhập ngũ bổ sung kịp thời một số đáng kể cán bộ kỹ thuật cho quân đội nhân dân Việt Nam.\n",
       " </p>,\n",
       " <p>Trường đã triển khai và thực hiện kế hoạch đào tạo đáp ứng nhu cầu cán bộ kỹ thuật của Việt Nam về số lượng, chất lượng và đa dạng ngành nghề. Trường đã tiến hành cải tiến nội dung chương trình, phương pháp đào tạo, kết hợp học với hành, kết hợp nghiên cứu tại trường với phục vụ sản xuất. Để đáp ứng nhu cầu cán bộ khoa học, kỹ thuật trình độ cao, năm 1976 trường đã mở hệ đào tạo sau đại học và năm 1979 bắt đầu tuyển nghiên cứu sinh thuộc 9 chuyên ngành. Trong giai đoạn này được sự quan tâm của Đảng, Chính phủ Việt Nam, đặc biệt là sự giúp đỡ của Liên Xô, cơ sở vật chất và trang thiết bị đã được hiện đại hóa. Việc đào tạo và bồi dưỡng cán bộ trong giai đoạn này đã tiến bộ vượt bậc, tính đến năm 1985 số cán bộ giáo dục và phục vụ giáo dục là 1467 người, trong đó có trên 33% cán bộ giảng dạy có trình độ sau đại học, đã đào tạo gần 9000 kỹ sư hệ chính quy, 2200 kỹ sư hệ tại chức và 26 tiến sĩ, phó tiến sĩ.\n",
       " </p>,\n",
       " <p>Thực hiện mục tiêu chiến lược xây dựng Trường Đại học Bách khoa Hà Nội không chỉ là trung tâm đào tạo đa ngành, đa lĩnh vực, trình độ cao mà còn là trung tâm Nghiên cứu khoa học, chuyển giao công nghệ tiên tiến của Việt Nam. Trường đã tăng cường quy mô đào tạo của cả hệ đại học và sau đại học, đa dạng hóa loại hình đào tạo, mở thêm ngành và chuyên ngành mới, đổi mới căn bản mục tiêu, nội dung chương trình và phương thức đào tạo.\n",
       " </p>,\n",
       " <p>Đại học Bách khoa Hà Nội đang đào tạo trên 40.000 sinh viên, học viên cao học và nghiên cứu sinh với 67 chuyên ngành đại học và 33 chuyên ngành cao học, 57 chuyên ngành tiến sĩ.\n",
       " </p>,\n",
       " <p>Hiện nay đại học có quan hệ hợp tác trong đào tạo, Nghiên cứu khoa học với trên 200 trường đại học, trung tâm Nghiên cứu khoa học, viện nghiên cứu và tổ chức giáo dục của 32 quốc gia trên thế giới, là thành viên của 8 tổ chức mạng lưới đại học quốc tế. Thông qua hợp tác quốc tế, trường đã cử khoảng 500 cán bộ và sinh viên đi nước ngoài học tập, nghiên cứu, trao đổi,...Xây dựng hàng chục dự án quốc tế về đào tạo, trang bị, nghiên cứu khoa học để góp phần tăng cường cơ sở vật chất cho đại học.\n",
       " </p>,\n",
       " <p>Bộ Giáo dục và Đào tạo đã giao cho Trường Đại học Bách khoa Hà Nội thực hiện bốn chương trình đào tạo tiên tiến là chương trình Cơ – Điện tử, Công nghệ Vật liệu, Điện – Điện tử và Kỹ thuật y sinh. Từ năm 1986 đến nay cơ sở vật chất của Trường đã được cải tạo và nâng cấp một cách cơ bản, cơ sở hạ tầng và cảnh quan đã khang trang sạch đẹp hơn nhiều, đã đầu tư nhiều phòng thí nghiệm hiện đại, xây dựng và đang thực hiện nhiều dự án lớn phục vụ công tác đào tạo và nghiên cứu khoa học ở trình độ cao. Điều kiện làm việc và đời sống vật chất, tinh thần của cán bộ, sinh viên không ngừng được cải thiện. Đặc biệt, tháng 9 năm 2006 trường đã đưa vào sử dụng Thư viện điện tử Tạ Quang Bửu với mức đầu tư 199 tỷ VNĐ.\n",
       " </p>,\n",
       " <p>Năm 2006, trường đã xây dựng Đề án: <i>Quy hoạch tổng thể xây dựng và phát triển trường Đại học Bách khoa Hà Nội giai đoạn 2006-2030\"</i>. Ngày 01 tháng 2 năm 2007, Bộ trưởng Bộ GD–ĐT Nguyễn Thiện Nhân đã ký Quyết định số 668/QĐ-BGDĐT phê duyệt bản Đề án này.<sup class=\"reference\" id=\"cite_ref-9\"><a href=\"#cite_note-9\"><span class=\"cite-bracket\">[</span>8<span class=\"cite-bracket\">]</span></a></sup><i></i>\n",
       " </p>,\n",
       " <p>Trường Đại học Bách khoa Hà Nội thường được chọn làm nơi cố vấn, in sao đề thi đại học hằng năm.\n",
       " </p>,\n",
       " <p>Ngày 5 tháng 12 năm 2022, Thủ tướng Chính phủ ban hành Quyết định số 1512/QĐ-TTg về việc chuyển Trường Đại học Bách khoa Hà Nội thành Đại học Bách khoa Hà Nội, đưa Bách khoa Hà Nội trở thành đại học đa ngành thứ 6 của Việt Nam, về lĩnh vực kỹ thuật và công nghệ.<sup class=\"reference\" id=\"cite_ref-10\"><a href=\"#cite_note-10\"><span class=\"cite-bracket\">[</span>9<span class=\"cite-bracket\">]</span></a></sup> Đại học Bách khoa Hà Nội sẽ tổ chức lại cơ cấu tổ chức và hoạt động trên cơ sở Trường Đại học Bách khoa Hà Nội trước đây theo quy định của Luật Giáo dục Đại học năm 2012 và luật sửa đổi, bổ sung một số điều của Luật Giáo dục Đại học năm 2018 cùng quy định pháp luật có liên quan.<sup class=\"reference\" id=\"cite_ref-11\"><a href=\"#cite_note-11\"><span class=\"cite-bracket\">[</span>10<span class=\"cite-bracket\">]</span></a></sup><sup class=\"reference\" id=\"cite_ref-12\"><a href=\"#cite_note-12\"><span class=\"cite-bracket\">[</span>11<span class=\"cite-bracket\">]</span></a></sup>\n",
       " </p>,\n",
       " <p>Tối 21 tháng 4 năm 2023, Đại học Bách khoa Hà Nội thành lập thêm Trường Hoá và Khoa học sự sống, Trường Vật liệu, nâng tổng số trường trực thuộc lên 5.<sup class=\"reference\" id=\"cite_ref-13\"><a href=\"#cite_note-13\"><span class=\"cite-bracket\">[</span>12<span class=\"cite-bracket\">]</span></a></sup>\n",
       " </p>,\n",
       " <p>Đại học Bách khoa Hà Nội có tổng diện tích phục vụ giảng dạy, nghiên cứu khoa học và hội họp rộng 22 hecta. Trường có hơn 200 giảng đường, phòng học, hội trường lớn và hệ thống phòng hội thảo; gần 200 phòng thí nghiệm, trong đó có 12 phòng thí nghiệm trọng điểm quốc gia và khoảng 20 xưởng thực tập, thực hành. Toàn bộ giảng đường được trang bị đầy đủ điều hòa và thiết bị giảng dạy cùng với hệ thống wifi miễn phí trong khuôn viên Trường. Thư viện điện tử Tạ Quang Bửu với diện tích 37.000 m2, có thể phục vụ đồng thời 2.000 sinh viên với 600.000 cuốn sách, 130.000 đầu sách điện tử. Sinh viên được truy cập miễn phí CSDL từ các nguồn như Science Direct, Scopus... Các hệ thống cơ sở vật chất phục vụ bộ môn giáo dục thể chất và phong trào thể thao của sinh viên đầy đủ và hiện đại với 1 sân bóng tiêu chuẩn quốc gia, 1 nhà thi đấu đa năng tiêu chuẩn <a href=\"/wiki/%C4%90%C3%B4ng_Nam_%C3%81\" title=\"Đông Nam Á\">Đông Nam Á</a>, 1 bể bơi tiêu chuẩn quốc gia, sân tennis tiêu chuẩn quốc gia... Trường có một khu ký túc xá với 420 phòng, đủ khả năng đáp ứng chỗ ở cho khoảng 4500 sinh viên. Tổng diện tích đất sử dụng của Trường: 252.857,8 m², nơi làm việc 15.252m², nơi học 78.846m², nơi vui chơi giải trí: 29.321 m², 1 nhà câu lạc bộ sinh viên với 350 chỗ được trang bị âm thanh hiện đại và 1 trung tâm Y tế hoạt động theo mô hình phòng khám đa khoa chăm sóc sức khỏe thường xuyên cho các cán bộ và sinh viên Trường.<sup class=\"reference\" id=\"cite_ref-csvc_2-1\"><a href=\"#cite_note-csvc-2\"><span class=\"cite-bracket\">[</span>2<span class=\"cite-bracket\">]</span></a></sup>\n",
       " </p>,\n",
       " <p>Đại học Bách khoa Hà Nội hiện có 5 trường, các viện đào tạo chuyên ngành, 3 khoa chuyên môn về Giáo dục thể chất, Giáo dục quốc phòng và Lý luận chính trị, 8 viện nghiên cứu và 5 trung tâm nghiên cứu. Khoảng 25.000 sinh viên đại học hệ chính quy, 5.000 học viên cao học và nghiên cứu sinh hiện đang học tập tại trường dưới sự giảng dạy, hướng dẫn của 1250 giảng viên, trong đó hơn 600 giảng viên có trình độ tiến sĩ.\n",
       " </p>,\n",
       " <p>Từ năm 2007, trường có 88 bộ môn, 15 trung tâm và phòng thí nghiệm thuộc 15 khoa và 6 viện; 1 bộ môn, 26 trung tâm và phòng thí nghiệm trọng điểm trực thuộc trường, 3 doanh nghiệp, 21 phòng, ban và nhà xuất bản Bách khoa Hà Nội.\n",
       " </p>,\n",
       " <p>Trường (06):\n",
       " </p>,\n",
       " <p>Viện, Trung tâm (8):\n",
       " </p>,\n",
       " <p>...\n",
       " Khoa chuyên ngành (04):\n",
       " </p>,\n",
       " <p>Khoa đại cương (03):\n",
       " </p>,\n",
       " <p>Tính đến tháng 1 năm 2020, đội ngũ cán bộ của Trường có 1.748 cán bộ, giảng viên, trong đó 60% giảng viên có trình độ tiến sĩ trở lên <sup class=\"reference\" id=\"cite_ref-doi_ngu_can_bo_14-0\"><a href=\"#cite_note-doi_ngu_can_bo-14\"><span class=\"cite-bracket\">[</span>13<span class=\"cite-bracket\">]</span></a></sup>\n",
       " </p>,\n",
       " <p>Đây là đội ngũ cán bộ có uy tín, kinh nghiệm, nhiệt huyết trong hoạt động đào tạo nghiệp vụ và quản lý, trong nghiên cứu khoa học và chuyển giao công nghệ.\n",
       " </p>,\n",
       " <p>Đại học Bách khoa Hà Nội đang đào tạo trên 30.000 sinh viên (2020), học viên cao học và nghiên cứu sinh với:\n",
       " </p>,\n",
       " <p>Hệ đại học:\n",
       " </p>,\n",
       " <p>Hệ sau đại học: \n",
       " </p>,\n",
       " <p>Từ lúc lập trường đến năm 2024, trường đã đào tạo được:\n",
       " </p>,\n",
       " <p>Trong 60 năm xây dựng và phát triển, Trường ĐHBK Hà Nội đã được Đảng và Nhà nước trao tặng nhiều phần thưởng cao quý như: Anh hùng Lao động thời kỳ đổi mới năm 2006, Anh hùng Lực lượng vũ trang nhân dân năm 2006, Huân chương Hồ Chí Minh năm 2001, Huân chương Độc lập hạng Nhất, Nhì, Ba; Huân chương Kháng chiến hạng Nhất, Huân chương Chiến công hạng Nhì, Huân chương Lao động hạng Nhất (2), hạng Nhì (2), hạng Ba (2)... Ngoài ra, có 3 tập thể là Bộ môn Thiết bị Điện, Bộ môn Hệ thống Điện, Viện Vật lý kỹ thuật đạt Giải thưởng Hồ Chí Minh; 3 cá nhân là PGS Trần Tuấn Thanh, GS.TSKH.NGƯT Trần Vĩnh Diệu, GS.TSKH.NGƯT Trần Đình Long đạt danh hiệu Anh hùng Lao động.\n",
       " </p>,\n",
       " <p>Ngoài ra, trường còn được trao tặng nhiều huân chương các loại. Nhiều đơn vị, cá nhân được nhà nước trao tặng huân chương lao động hạng nhất, nhì, ba và giải thưởng Hồ Chí Minh về khoa học công nghệ.\n",
       " </p>,\n",
       " <p>Ngày <a href=\"/wiki/7_th%C3%A1ng_10\" title=\"7 tháng 10\">7 tháng 10</a> năm <a href=\"/wiki/2006\" title=\"2006\">2006</a>, thư viện <a href=\"/wiki/T%E1%BA%A1_Quang_B%E1%BB%ADu\" title=\"Tạ Quang Bửu\">Tạ Quang Bửu</a> – công trình kỉ niệm 50 thành lập trường Đại học Bách khoa Hà Nội được khánh thành. Tổng vốn đầu tư cho xây dựng thư viện <a href=\"/wiki/T%E1%BA%A1_Quang_B%E1%BB%ADu\" title=\"Tạ Quang Bửu\">Tạ Quang Bửu</a> là hơn 200 tỉ <a class=\"mw-redirect\" href=\"/wiki/%C4%90%E1%BB%93ng_(ti%E1%BB%81n)\" title=\"Đồng (tiền)\">đồng</a>. Thư viện Tạ Quang Bửu hiện là một trong những thư viện lớn nhất trong hệ thống thư viện đại học ở Việt Nam, bao gồm 1 toà nhà 10 tầng với tổng diện tích 37.000m².\n",
       " </p>,\n",
       " <p>Từ tầng 1 tới tầng 5 là hệ thống phòng đọc mở (người đọc có thể tự tìm kiếm, tra cứu sách và tài liệu). Thư viện có hai phòng học đa phương tiện với quy mô mỗi phòng 150 <a href=\"/wiki/M%C3%A1y_t%C3%ADnh\" title=\"Máy tính\">máy tính</a> được kết nối <a href=\"/wiki/Internet\" title=\"Internet\">Internet</a> giúp <a href=\"/wiki/Sinh_vi%C3%AAn\" title=\"Sinh viên\">sinh viên</a> truy cập miễn phí. Thư viện có khả năng phục vụ cùng một lúc hơn 2000 sinh viên.\n",
       " </p>,\n",
       " <p>Tổng số máy tính của trường: 2.421.\n",
       " Dùng cho hệ thống văn phòng: 632.\n",
       " Dùng cho sinh viên học tập: 1.789.\n",
       " Mạng thông tin:\n",
       " </p>,\n",
       " <p>\n",
       " Trang web của Thư viện với hơn 600 000 đầu sách và cung cấp các truy cập đến các cơ sở dữ liệu trực tuyến như <a class=\"new\" href=\"/w/index.php?title=Science_Direct&amp;action=edit&amp;redlink=1\" title=\"Science Direct (trang không tồn tại)\">Science Direct</a>, <a class=\"mw-redirect\" href=\"/wiki/IEEE\" title=\"IEEE\">IEEE</a>, <a class=\"mw-redirect\" href=\"/wiki/ACM\" title=\"ACM\">ACM</a>.</p>,\n",
       " <p>Trang web của Trung tâm Mạng thông tin cung cấp các thông tin cần thiết về các dịch vụ công nghệ của trường ĐH Bách khoa Hà Nội từ email, tài khoản truy cập Internet, kết nối mạng nội bộ...\n",
       " </p>,\n",
       " <p>Nhà in chịu trách nhiệm in các loại ấn phẩm cho Nhà xuất bản. Hợp đồng in các loại ấn phẩm trong phạm vi kinh doanh của Nhà xuất bản và các đối tác.\n",
       " </p>,\n",
       " <p>Doanh nhân:\n",
       " </p>,\n",
       " <p>Nhà Khoa học:\n",
       " </p>,\n",
       " <p>Nhà Khoa học:\n",
       " </p>,\n",
       " <p>Chính trị gia:\n",
       " </p>,\n",
       " <p class=\"mw-empty-elt\">\n",
       " </p>]"
      ]
     },
     "execution_count": 4,
     "metadata": {},
     "output_type": "execute_result"
    }
   ],
   "source": [
    "url = \"https://vi.wikipedia.org/wiki/Đại_học_Bách_khoa_Hà_Nội\"\n",
    "response = requests.get(url=url)\n",
    "\n",
    "soup = BeautifulSoup(response.content, 'html.parser')\n",
    "\n",
    "p_data = soup.findAll('p')\n",
    "p_data"
   ]
  },
  {
   "cell_type": "code",
   "execution_count": null,
   "metadata": {},
   "outputs": [],
   "source": [
    "clean_text = []\n",
    "for p in p_data:\n",
    "    # Loại bỏ các tag HTML\n",
    "    text = p.get_text().strip()\n",
    "    # Loại bỏ các dấu ngoặc kép và dấu phẩy\n",
    "    text = text.replace('\"', '').replace(',', '')\n",
    "    # Loại bỏ các dòng trống\n",
    "    if text:\n",
    "        clean_text.append(text)\n",
    "\n",
    "# In kết quả text đã được xử lý\n",
    "for text in clean_text:\n",
    "    print(text)"
   ]
  },
  {
   "cell_type": "code",
   "execution_count": 7,
   "metadata": {},
   "outputs": [
    {
     "data": {
      "text/plain": [
       "40"
      ]
     },
     "execution_count": 7,
     "metadata": {},
     "output_type": "execute_result"
    }
   ],
   "source": [
    "len(clean_text)"
   ]
  },
  {
   "cell_type": "code",
   "execution_count": null,
   "metadata": {},
   "outputs": [],
   "source": []
  }
 ],
 "metadata": {
  "kernelspec": {
   "display_name": "Python 3",
   "language": "python",
   "name": "python3"
  },
  "language_info": {
   "codemirror_mode": {
    "name": "ipython",
    "version": 3
   },
   "file_extension": ".py",
   "mimetype": "text/x-python",
   "name": "python",
   "nbconvert_exporter": "python",
   "pygments_lexer": "ipython3",
   "version": "3.10.3"
  }
 },
 "nbformat": 4,
 "nbformat_minor": 2
}
